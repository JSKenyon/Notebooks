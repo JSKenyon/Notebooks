{
 "metadata": {
  "name": ""
 },
 "nbformat": 3,
 "nbformat_minor": 0,
 "worksheets": [
  {
   "cells": [
    {
     "cell_type": "raw",
     "metadata": {},
     "source": [
      "This notebook will be a basic tutorial on how FITS (Flexible Image Transport System) format images can be manipulated. The first step is to load the required Python package."
     ]
    },
    {
     "cell_type": "code",
     "collapsed": false,
     "input": [
      "# This imports the pyfits package.\n",
      "\n",
      "import pyfits "
     ],
     "language": "python",
     "metadata": {},
     "outputs": [],
     "prompt_number": 1
    },
    {
     "cell_type": "raw",
     "metadata": {},
     "source": [
      "The next step is to open a FITS file. "
     ]
    },
    {
     "cell_type": "code",
     "collapsed": false,
     "input": [
      "fitsfile = pyfits.open(\"PSF.fits\")"
     ],
     "language": "python",
     "metadata": {},
     "outputs": [],
     "prompt_number": 2
    },
    {
     "cell_type": "raw",
     "metadata": {},
     "source": [
      "We have opened the FITS file, but what precisely is it? Printing its type can give as an idea."
     ]
    },
    {
     "cell_type": "code",
     "collapsed": false,
     "input": [
      "print type(fitsfile)"
     ],
     "language": "python",
     "metadata": {},
     "outputs": [
      {
       "output_type": "stream",
       "stream": "stdout",
       "text": [
        "<class 'pyfits.hdu.hdulist.HDUList'>\n"
       ]
      }
     ],
     "prompt_number": 3
    },
    {
     "cell_type": "raw",
     "metadata": {},
     "source": [
      "The above tells us that the contents of the fitsfile variable is an HDU (Header Data Unit) list object. This is simpler than it sounds. It is basically a list of HDUs. An HDU usually consists of a header and some data. A header, like a dictionary, contains keys and assosciated values which are relevant to the data. Before trying to access either the header or the data, it is a good idea to know a little more about the HDU list."
     ]
    },
    {
     "cell_type": "code",
     "collapsed": false,
     "input": [
      "# This prints some useful information about our HDU list.\n",
      "\n",
      "fitsfile.info()"
     ],
     "language": "python",
     "metadata": {},
     "outputs": [
      {
       "output_type": "stream",
       "stream": "stdout",
       "text": [
        "Filename: PSF.fits\n",
        "No.    Name         Type      Cards   Dimensions   Format\n",
        "0    PRIMARY     PrimaryHDU      71   (2048, 2048, 1, 1)   float32   \n"
       ]
      }
     ],
     "prompt_number": 4
    },
    {
     "cell_type": "raw",
     "metadata": {},
     "source": [
      "We can now see that our HDU list only has one element, which is assigned the index 0. Note that in Python most things are indexed from 0. The cards value indicated the number of entries in the header. This can be thought of as the number of keys in a dictionary. The dimensions value gives the dimensions of the data assosicated with the HDU. Note, that this value is displayed in reverse order here, and the first two values refer to columns and rows respectively.\n",
      "\n",
      "The next step is to actually separate the header and the data and load them into variables."
     ]
    },
    {
     "cell_type": "code",
     "collapsed": false,
     "input": [
      "# We know which element in the HDU list we want, so we access it explicitly.\n",
      "\n",
      "fitsheader = fitsfile[0].header\n",
      "fitsdata   = fitsfile[0].data"
     ],
     "language": "python",
     "metadata": {},
     "outputs": [],
     "prompt_number": 5
    },
    {
     "cell_type": "raw",
     "metadata": {},
     "source": [
      "Let's verify that we got what we wanted."
     ]
    },
    {
     "cell_type": "code",
     "collapsed": false,
     "input": [
      "print type(fitsheader)\n",
      "print type(fitsdata)"
     ],
     "language": "python",
     "metadata": {},
     "outputs": [
      {
       "output_type": "stream",
       "stream": "stdout",
       "text": [
        "<class 'pyfits.header.Header'>\n",
        "<type 'numpy.ndarray'>\n"
       ]
      }
     ],
     "prompt_number": 6
    },
    {
     "cell_type": "raw",
     "metadata": {},
     "source": [
      "A quick thing to note - by opening a FITS file as shown above and assigning its contents to variables, the data we need is now in memory. It is not necessary to keep the file open once we have the desired contents."
     ]
    },
    {
     "cell_type": "code",
     "collapsed": false,
     "input": [
      "# This is a good habit ot get into.\n",
      "\n",
      "fitsfile.close()"
     ],
     "language": "python",
     "metadata": {},
     "outputs": [],
     "prompt_number": 7
    },
    {
     "cell_type": "raw",
     "metadata": {},
     "source": [
      "Now we have the pieces of out FITS file in a form which is easier to use. Lets start by looking at our data. It is simply a numpy array, and thus all the usual numpy syntax applies. To use it, however, we want to import numpy. This should be done at the beginning, but we can get away with importing it here."
     ]
    },
    {
     "cell_type": "code",
     "collapsed": false,
     "input": [
      "# I alias numpy as np for ease of use.\n",
      "\n",
      "import numpy as np\n",
      "\n",
      "# Verify our data shape.\n",
      "\n",
      "print fitsdata.shape"
     ],
     "language": "python",
     "metadata": {},
     "outputs": [
      {
       "output_type": "stream",
       "stream": "stdout",
       "text": [
        "(1, 1, 2048, 2048)\n"
       ]
      }
     ],
     "prompt_number": 8
    },
    {
     "cell_type": "raw",
     "metadata": {},
     "source": [
      "This agrees with the shape we saw in the fitsfile.info() output we saw earlier. Note again how the order is different here.\n",
      "\n",
      "This introduction will not explore numpy in detail, but slicing the data is useful for plotting. "
     ]
    },
    {
     "cell_type": "code",
     "collapsed": false,
     "input": [
      "# We only want the last two dimensions - the rows and columns which make up a single image.\n",
      "\n",
      "dataslice = fitsdata[0,0,:,:]"
     ],
     "language": "python",
     "metadata": {},
     "outputs": [],
     "prompt_number": 9
    },
    {
     "cell_type": "raw",
     "metadata": {},
     "source": [
      "Plotting the data is always useful. I tend to import pylab for this purpose. Again, this should be done at the beginning, but we can get away with it here."
     ]
    },
    {
     "cell_type": "code",
     "collapsed": false,
     "input": [
      "# I alias pylab as pb for ease of use. The second command simply enables inline plotting for the purposes of this notebook.\n",
      "\n",
      "import pylab as pb\n",
      "%matplotlib inline\n",
      "\n",
      "# Simple colour-map plot commands.\n",
      "\n",
      "pb.imshow(dataslice)\n",
      "pb.show()"
     ],
     "language": "python",
     "metadata": {},
     "outputs": [
      {
       "metadata": {},
       "output_type": "display_data",
       "png": "[encoded data removed]",
       "text": [
        "<matplotlib.figure.Figure at 0x7fb1d79cd1d0>"
       ]
      }
     ],
     "prompt_number": 10
    },
    {
     "cell_type": "code",
     "collapsed": false,
     "input": [
      "# We can even slice on the fly, effectively creating a zoomed image.\n",
      "\n",
      "pb.imshow(dataslice[768:1280,768:1280])\n",
      "pb.show()"
     ],
     "language": "python",
     "metadata": {},
     "outputs": [
      {
       "metadata": {},
       "output_type": "display_data",
       "png": "[encoded data removed]",
       "text": [
        "<matplotlib.figure.Figure at 0x7fb1d7ea8dd0>"
       ]
      }
     ],
     "prompt_number": 11
    },
    {
     "cell_type": "raw",
     "metadata": {},
     "source": [
      "There is not much more to be said about the data from a technical perspective. A few final point will be touched on when we discuss saving a FITS file.\n",
      "\n",
      "We return to our header. Now that we know the basics, it is possible to elaborate a little on the structure of the header. It is not quite a dictionary, but can be thought of in a similar fashion. A header is made up of cards. Each card contains a keyword, a value, and a comment. The keyword and value are identical to the more familar Python dictionary. The comment is an extra field which allows desriptive text strings to be added to the header. Let start by printing the header."
     ]
    },
    {
     "cell_type": "code",
     "collapsed": false,
     "input": [
      "# The repr command just makes the output more readable.\n",
      "\n",
      "print repr(fitsheader)"
     ],
     "language": "python",
     "metadata": {},
     "outputs": [
      {
       "output_type": "stream",
       "stream": "stdout",
       "text": [
        "SIMPLE  =                    T /Standard FITS                                   \n",
        "BITPIX  =                  -32 /Floating point (32 bit)                         \n",
        "NAXIS   =                    4                                                  \n",
        "NAXIS1  =                 2048                                                  \n",
        "NAXIS2  =                 2048                                                  \n",
        "NAXIS3  =                    1                                                  \n",
        "NAXIS4  =                    1                                                  \n",
        "BSCALE  =   1.000000000000E+00 /PHYSICAL = PIXEL*BSCALE + BZERO                 \n",
        "BZERO   =   0.000000000000E+00                                                  \n",
        "BTYPE   = 'Intensity'                                                           \n",
        "OBJECT  = 'BEAM_0  '                                                            \n",
        "                                                                                \n",
        "BUNIT   = 'JY/BEAM '           /Brightness (pixel) unit                         \n",
        "EQUINOX =   2.000000000000E+03                                                  \n",
        "LONPOLE =   1.800000000000E+02                                                  \n",
        "LATPOLE =  -4.000000000000E+01                                                  \n",
        "PC001001=   1.000000000000E+00                                                  \n",
        "PC002001=   0.000000000000E+00                                                  \n",
        "PC003001=   0.000000000000E+00                                                  \n",
        "PC004001=   0.000000000000E+00                                                  \n",
        "PC001002=   0.000000000000E+00                                                  \n",
        "PC002002=   1.000000000000E+00                                                  \n",
        "PC003002=   0.000000000000E+00                                                  \n",
        "PC004002=   0.000000000000E+00                                                  \n",
        "PC001003=   0.000000000000E+00                                                  \n",
        "PC002003=   0.000000000000E+00                                                  \n",
        "PC003003=   1.000000000000E+00                                                  \n",
        "PC004003=   0.000000000000E+00                                                  \n",
        "PC001004=   0.000000000000E+00                                                  \n",
        "PC002004=   0.000000000000E+00                                                  \n",
        "PC003004=   0.000000000000E+00                                                  \n",
        "PC004004=   1.000000000000E+00                                                  \n",
        "CTYPE1  = 'RA---SIN'                                                            \n",
        "CRVAL1  =   0.000000000000E+00                                                  \n",
        "CDELT1  =  -2.777777777778E-04                                                  \n",
        "CRPIX1  =   1.025000000000E+03                                                  \n",
        "CUNIT1  = 'deg     '                                                            \n",
        "CTYPE2  = 'DEC--SIN'                                                            \n",
        "CRVAL2  =  -4.000000000000E+01                                                  \n",
        "CDELT2  =   2.777777777778E-04                                                  \n",
        "CRPIX2  =   1.025000000000E+03                                                  \n",
        "CUNIT2  = 'deg     '                                                            \n",
        "CTYPE3  = 'STOKES  '                                                            \n",
        "CRVAL3  =   1.000000000000E+00                                                  \n",
        "CDELT3  =   1.000000000000E+00                                                  \n",
        "CRPIX3  =   1.000000000000E+00                                                  \n",
        "CUNIT3  = '        '                                                            \n",
        "CTYPE4  = 'FREQ    '                                                            \n",
        "CRVAL4  =   1.014581950000E+09                                                  \n",
        "CDELT4  =   3.900000000000E+03                                                  \n",
        "CRPIX4  =   1.000000000000E+00                                                  \n",
        "CUNIT4  = 'HZ      '                                                            \n",
        "PV2_1   =   0.000000000000E+00                                                  \n",
        "PV2_2   =   0.000000000000E+00                                                  \n",
        "RESTFREQ=   1.014581950000E+09 /Rest Frequency (Hz)                             \n",
        "ALTRVAL =  -0.000000000000E+00 /Alternate frequency reference value             \n",
        "ALTRPIX =   1.000000000000E+00 /Alternate frequency reference pixel             \n",
        "VELREF  =                    3 /1 LSR, 2 HEL, 3 OBS, +256 Radio                 \n",
        "COMMENT casacore non-standard usage: 4 LSD, 5 GEO, 6 SOU, 7 GAL                 \n",
        "TELESCOP= 'LOFAR   '                                                            \n",
        "OBSERVER= 'MSCreate'                                                            \n",
        "DATE-OBS= '2011-11-16T15:00:00.000000'                                          \n",
        "TIMESYS = 'UTC     '                                                            \n",
        "OBSRA   =   0.000000000000E+00                                                  \n",
        "OBSDEC  =  -4.000000000000E+01                                                  \n",
        "OBJECT  = 'BEAM_0  '                                                            \n",
        "TELESCOP= 'LOFAR   '                                                            \n",
        "INSTRUME= 'LOFAR   '                                                            \n",
        "DISTANCE=   0.000000000000E+00                                                  \n",
        "DATE    = '2014-02-02T20:41:19.161000' /Date FITS file was written              \n",
        "ORIGIN  = 'CASA casacore alma-evla '                                            \n"
       ]
      }
     ],
     "prompt_number": 12
    },
    {
     "cell_type": "raw",
     "metadata": {},
     "source": [
      "We can now see the whole header. This is useful for when the contents of the header are unknown. The format of each card is also clear in the above output: keyword = value /comment\n",
      "\n",
      "However, this output can also be a bit overwhelming, so sometimes you only want the keywords."
     ]
    },
    {
     "cell_type": "code",
     "collapsed": false,
     "input": [
      "# This will print only the keywords.\n",
      "\n",
      "print fitsheader.keys()"
     ],
     "language": "python",
     "metadata": {},
     "outputs": [
      {
       "output_type": "stream",
       "stream": "stdout",
       "text": [
        "['SIMPLE', 'BITPIX', 'NAXIS', 'NAXIS1', 'NAXIS2', 'NAXIS3', 'NAXIS4', 'BSCALE', 'BZERO', 'BTYPE', 'OBJECT', '', 'BUNIT', 'EQUINOX', 'LONPOLE', 'LATPOLE', 'PC001001', 'PC002001', 'PC003001', 'PC004001', 'PC001002', 'PC002002', 'PC003002', 'PC004002', 'PC001003', 'PC002003', 'PC003003', 'PC004003', 'PC001004', 'PC002004', 'PC003004', 'PC004004', 'CTYPE1', 'CRVAL1', 'CDELT1', 'CRPIX1', 'CUNIT1', 'CTYPE2', 'CRVAL2', 'CDELT2', 'CRPIX2', 'CUNIT2', 'CTYPE3', 'CRVAL3', 'CDELT3', 'CRPIX3', 'CUNIT3', 'CTYPE4', 'CRVAL4', 'CDELT4', 'CRPIX4', 'CUNIT4', 'PV2_1', 'PV2_2', 'RESTFREQ', 'ALTRVAL', 'ALTRPIX', 'VELREF', 'COMMENT', 'TELESCOP', 'OBSERVER', 'DATE-OBS', 'TIMESYS', 'OBSRA', 'OBSDEC', 'OBJECT', 'TELESCOP', 'INSTRUME', 'DISTANCE', 'DATE', 'ORIGIN']\n"
       ]
      }
     ],
     "prompt_number": 13
    },
    {
     "cell_type": "raw",
     "metadata": {},
     "source": [
      "We often only want to access a single value."
     ]
    },
    {
     "cell_type": "code",
     "collapsed": false,
     "input": [
      "# To access a value, the syntax is the same as for a Python dictionary.\n",
      "\n",
      "print fitsheader[\"BUNIT\"]\n",
      "\n",
      "# If we want to access a comment, the syntax is a little different.\n",
      "\n",
      "print fitsheader.comments[\"BUNIT\"]"
     ],
     "language": "python",
     "metadata": {},
     "outputs": [
      {
       "output_type": "stream",
       "stream": "stdout",
       "text": [
        "JY/BEAM\n",
        "Brightness (pixel) unit\n"
       ]
      }
     ],
     "prompt_number": 14
    },
    {
     "cell_type": "raw",
     "metadata": {},
     "source": [
      "It is very easy to update the value of a card."
     ]
    },
    {
     "cell_type": "code",
     "collapsed": false,
     "input": [
      "# Print the current value of the TELESCOP card.\n",
      "\n",
      "print fitsheader[\"TELESCOP\"]\n",
      "\n",
      "# Change its value.\n",
      "\n",
      "fitsheader[\"TELESCOP\"] = \"ATCA\"\n",
      "\n",
      "# Verify that it has been updated.\n",
      "\n",
      "print fitsheader[\"TELESCOP\"]"
     ],
     "language": "python",
     "metadata": {},
     "outputs": [
      {
       "output_type": "stream",
       "stream": "stdout",
       "text": [
        "LOFAR\n",
        "ATCA\n"
       ]
      }
     ],
     "prompt_number": 15
    },
    {
     "cell_type": "raw",
     "metadata": {},
     "source": [
      "It is also very easy to add new cards."
     ]
    },
    {
     "cell_type": "code",
     "collapsed": false,
     "input": [
      "# Adding a card is a simple as specifying new key and assigning it a value.\n",
      "# header[key] = (value,comment) allows for comments.\n",
      "# header[key] = value is also correct when no comment is required. \n",
      "\n",
      "fitsheader[\"NEWFIELD\"] = (\"value\",\"comment\")\n",
      "\n",
      "# Verify that the new card has been added.\n",
      "\n",
      "print fitsheader[\"NEWFIELD\"]\n",
      "print fitsheader.comments[\"NEWFIELD\"]"
     ],
     "language": "python",
     "metadata": {},
     "outputs": [
      {
       "output_type": "stream",
       "stream": "stdout",
       "text": [
        "value\n",
        "comment\n"
       ]
      }
     ],
     "prompt_number": 16
    },
    {
     "cell_type": "raw",
     "metadata": {},
     "source": [
      "The final step when manipulating a FITS file is the ability to save it. The syntax for this is quite simple. All that is required is a header and some data which is to be stored in the new FITS file. We are going to make use of our existing header. Remember how we changed the \"TELESCOP\" card? We are going to save that change. Additionally, we are going to save only the data which appeared in our zoomed image. "
     ]
    },
    {
     "cell_type": "code",
     "collapsed": false,
     "input": [
      "# The first step is to create a new primary HDU object which contains the header and data we want to save.\n",
      "\n",
      "newfits = pyfits.PrimaryHDU(dataslice[768:1280,768:1280], fitsheader)\n",
      "\n",
      "# Now we save this new object with a name of our choosing. Remember the extension. \n",
      "# clobber=True just allows this to overwrite existing files with the same name.\n",
      "\n",
      "newfits.writeto(\"MODPSF.fits\", clobber=True)"
     ],
     "language": "python",
     "metadata": {},
     "outputs": [
      {
       "output_type": "stream",
       "stream": "stderr",
       "text": [
        "/usr/local/lib/python2.7/dist-packages/pyfits/file.py:339: UserWarning: Overwriting existing file 'MODPSF.fits'.\n",
        "  warnings.warn(\"Overwriting existing file %r.\" % self.name)\n"
       ]
      }
     ],
     "prompt_number": 17
    },
    {
     "cell_type": "raw",
     "metadata": {},
     "source": [
      "We are almost at the end of the basics. The following is just a quick test to show that our save was successful, and that the header amended itself to reflect the new data size automatically."
     ]
    },
    {
     "cell_type": "code",
     "collapsed": false,
     "input": [
      "# This is an example of the quick and dirty way of quickly seeing the contents of a header.\n",
      "# Do not use this approach in application code.\n",
      "\n",
      "print repr(pyfits.open(\"MODPSF.fits\")[0].header)"
     ],
     "language": "python",
     "metadata": {},
     "outputs": [
      {
       "output_type": "stream",
       "stream": "stdout",
       "text": [
        "SIMPLE  =                    T / conforms to FITS standard                      \n",
        "BITPIX  =                  -32 / array data type                                \n",
        "NAXIS   =                    2 / number of array dimensions                     \n",
        "NAXIS1  =                  512                                                  \n",
        "NAXIS2  =                  512                                                  \n",
        "BTYPE   = 'Intensity'                                                           \n",
        "OBJECT  = 'BEAM_0  '                                                            \n",
        "                                                                                \n",
        "BUNIT   = 'JY/BEAM '           /Brightness (pixel) unit                         \n",
        "EQUINOX =   2.000000000000E+03                                                  \n",
        "LONPOLE =   1.800000000000E+02                                                  \n",
        "LATPOLE =  -4.000000000000E+01                                                  \n",
        "PC001001=   1.000000000000E+00                                                  \n",
        "PC002001=   0.000000000000E+00                                                  \n",
        "PC003001=   0.000000000000E+00                                                  \n",
        "PC004001=   0.000000000000E+00                                                  \n",
        "PC001002=   0.000000000000E+00                                                  \n",
        "PC002002=   1.000000000000E+00                                                  \n",
        "PC003002=   0.000000000000E+00                                                  \n",
        "PC004002=   0.000000000000E+00                                                  \n",
        "PC001003=   0.000000000000E+00                                                  \n",
        "PC002003=   0.000000000000E+00                                                  \n",
        "PC003003=   1.000000000000E+00                                                  \n",
        "PC004003=   0.000000000000E+00                                                  \n",
        "PC001004=   0.000000000000E+00                                                  \n",
        "PC002004=   0.000000000000E+00                                                  \n",
        "PC003004=   0.000000000000E+00                                                  \n",
        "PC004004=   1.000000000000E+00                                                  \n",
        "CTYPE1  = 'RA---SIN'                                                            \n",
        "CRVAL1  =   0.000000000000E+00                                                  \n",
        "CDELT1  =  -2.777777777778E-04                                                  \n",
        "CRPIX1  =   1.025000000000E+03                                                  \n",
        "CUNIT1  = 'deg     '                                                            \n",
        "CTYPE2  = 'DEC--SIN'                                                            \n",
        "CRVAL2  =  -4.000000000000E+01                                                  \n",
        "CDELT2  =   2.777777777778E-04                                                  \n",
        "CRPIX2  =   1.025000000000E+03                                                  \n",
        "CUNIT2  = 'deg     '                                                            \n",
        "CTYPE3  = 'STOKES  '                                                            \n",
        "CRVAL3  =   1.000000000000E+00                                                  \n",
        "CDELT3  =   1.000000000000E+00                                                  \n",
        "CRPIX3  =   1.000000000000E+00                                                  \n",
        "CUNIT3  = '        '                                                            \n",
        "CTYPE4  = 'FREQ    '                                                            \n",
        "CRVAL4  =   1.014581950000E+09                                                  \n",
        "CDELT4  =   3.900000000000E+03                                                  \n",
        "CRPIX4  =   1.000000000000E+00                                                  \n",
        "CUNIT4  = 'HZ      '                                                            \n",
        "PV2_1   =   0.000000000000E+00                                                  \n",
        "PV2_2   =   0.000000000000E+00                                                  \n",
        "RESTFREQ=   1.014581950000E+09 /Rest Frequency (Hz)                             \n",
        "ALTRVAL =  -0.000000000000E+00 /Alternate frequency reference value             \n",
        "ALTRPIX =   1.000000000000E+00 /Alternate frequency reference pixel             \n",
        "VELREF  =                    3 /1 LSR, 2 HEL, 3 OBS, +256 Radio                 \n",
        "COMMENT casacore non-standard usage: 4 LSD, 5 GEO, 6 SOU, 7 GAL                 \n",
        "TELESCOP= 'ATCA    '                                                            \n",
        "OBSERVER= 'MSCreate'                                                            \n",
        "DATE-OBS= '2011-11-16T15:00:00.000000'                                          \n",
        "TIMESYS = 'UTC     '                                                            \n",
        "OBSRA   =   0.000000000000E+00                                                  \n",
        "OBSDEC  =  -4.000000000000E+01                                                  \n",
        "OBJECT  = 'BEAM_0  '                                                            \n",
        "TELESCOP= 'LOFAR   '                                                            \n",
        "INSTRUME= 'LOFAR   '                                                            \n",
        "DISTANCE=   0.000000000000E+00                                                  \n",
        "DATE    = '2014-02-02T20:41:19.161000' /Date FITS file was written              \n",
        "ORIGIN  = 'CASA casacore alma-evla '                                            \n",
        "NEWFIELD= 'value   '           / comment                                        \n"
       ]
      }
     ],
     "prompt_number": 18
    },
    {
     "cell_type": "raw",
     "metadata": {},
     "source": [
      "All the changes we made have been saved. It is also possible to create a FITS file from scratch, though we do this less frequently as we often need all the cards to be filled in."
     ]
    },
    {
     "cell_type": "code",
     "collapsed": false,
     "input": [
      "# We create some data.\n",
      "\n",
      "testdata = np.zeros([512,512])\n",
      "\n",
      "# We put the data in an HDU.\n",
      "\n",
      "testhdu = pyfits.PrimaryHDU(testdata)\n",
      "\n",
      "# And then we save it.\n",
      "\n",
      "testhdu.writeto(\"EMPTY.fits\", clobber=True)\n",
      "\n",
      "# And check what we have created.\n",
      "\n",
      "print repr(pyfits.open(\"EMPTY.fits\")[0].header)"
     ],
     "language": "python",
     "metadata": {},
     "outputs": [
      {
       "output_type": "stream",
       "stream": "stdout",
       "text": [
        "SIMPLE  =                    T / conforms to FITS standard                      \n",
        "BITPIX  =                  -64 / array data type                                \n",
        "NAXIS   =                    2 / number of array dimensions                     \n",
        "NAXIS1  =                  512                                                  \n",
        "NAXIS2  =                  512                                                  \n",
        "EXTEND  =                    T                                                  \n"
       ]
      },
      {
       "output_type": "stream",
       "stream": "stderr",
       "text": [
        "/usr/local/lib/python2.7/dist-packages/pyfits/file.py:339: UserWarning: Overwriting existing file 'EMPTY.fits'.\n",
        "  warnings.warn(\"Overwriting existing file %r.\" % self.name)\n"
       ]
      }
     ],
     "prompt_number": 19
    },
    {
     "cell_type": "raw",
     "metadata": {},
     "source": [
      "As you can see, there isn't much in the FITS file. But we know how to add cards, and if you wanted to, you could add everything you wanted to.\n",
      "\n",
      "That concludes the basics of pyfits."
     ]
    },
    {
     "cell_type": "markdown",
     "metadata": {},
     "source": []
    }
   ],
   "metadata": {}
  }
 ]
}